{
 "cells": [
  {
   "cell_type": "code",
   "execution_count": 4,
   "id": "76a000b2-aa2a-49bd-8fc1-c1947bafac6d",
   "metadata": {},
   "outputs": [
    {
     "name": "stdout",
     "output_type": "stream",
     "text": [
      "[ 1  2  3  4  5  6  7  8  9 10]\n",
      "[0.5  0.75 1.   1.25 1.5  1.75 2.   2.25 2.5  2.75 3.   3.25 3.5  3.75\n",
      " 4.   4.25 4.5  4.75 5.  ]\n"
     ]
    }
   ],
   "source": [
    "import numpy as np\n",
    "array_a = np.arange(1, 11)\n",
    "print(array_a)\n",
    "\n",
    "array_b = np.arange(0.5, 5.25, 0.25)\n",
    "print(array_b)"
   ]
  },
  {
   "cell_type": "code",
   "execution_count": 6,
   "id": "99e8276b-53ba-4ff2-8a20-a9604dea0c36",
   "metadata": {},
   "outputs": [
    {
     "name": "stdout",
     "output_type": "stream",
     "text": [
      "[0. 0. 0. 0. 0. 0. 0. 0. 0. 0.]\n",
      "[[0. 0. 0.]\n",
      " [0. 0. 0.]\n",
      " [0. 0. 0.]\n",
      " [0. 0. 0.]]\n"
     ]
    }
   ],
   "source": [
    "zeros_a = np.zeros(10)\n",
    "print(zeros_a)\n",
    "\n",
    "zeros_b = np.zeros((4, 3))\n",
    "print(zeros_b)\n"
   ]
  },
  {
   "cell_type": "code",
   "execution_count": 8,
   "id": "7f53bffe-3bd9-4e3e-b838-3d46225616e4",
   "metadata": {},
   "outputs": [
    {
     "name": "stdout",
     "output_type": "stream",
     "text": [
      "[ 2.   4.5  7.   9.5 12. ]\n",
      "[3. 5. 7. 9.]\n"
     ]
    }
   ],
   "source": [
    "linspace_a = np.linspace(2, 12, 5)\n",
    "print(linspace_a)\n",
    "\n",
    "linspace_b = np.linspace(3, 9, 4)\n",
    "print(linspace_b)\n"
   ]
  },
  {
   "cell_type": "code",
   "execution_count": 10,
   "id": "6f008b90-3ae4-48a5-97c2-9f7907339578",
   "metadata": {},
   "outputs": [
    {
     "name": "stdout",
     "output_type": "stream",
     "text": [
      "[[0.57154041 0.39517928 0.77151721 0.81160032]\n",
      " [0.91485406 0.26586794 0.14835901 0.99243074]]\n",
      "[[14 15 13]\n",
      " [19 13 16]\n",
      " [10 19 17]]\n",
      "[[0.57154041]\n",
      " [0.39517928]\n",
      " [0.77151721]\n",
      " [0.81160032]\n",
      " [0.91485406]\n",
      " [0.26586794]\n",
      " [0.14835901]\n",
      " [0.99243074]]\n"
     ]
    }
   ],
   "source": [
    "random_a = np.random.rand(2, 4)\n",
    "print(random_a)\n",
    "\n",
    "random_b = np.random.randint(10, 20, (3, 3))\n",
    "print(random_b)\n",
    "\n",
    "reshaped_a = random_a.reshape(8, 1)\n",
    "print(reshaped_a)\n"
   ]
  },
  {
   "cell_type": "code",
   "execution_count": null,
   "id": "c62a0c40-f3a5-496d-b4e3-b3ad801c1158",
   "metadata": {},
   "outputs": [],
   "source": [
    "5. If we use a fixed seed, the sequence of random numbers will be the same each time, allowing reproducibility.\n",
    "Advantage of using seed: It ensures consistency in results, useful for testing and debugging."
   ]
  },
  {
   "cell_type": "code",
   "execution_count": 12,
   "id": "dcf50e9e-1785-4dba-a892-9f543cbd23f4",
   "metadata": {},
   "outputs": [
    {
     "name": "stdin",
     "output_type": "stream",
     "text": [
      "Enter a number:  1\n",
      "Enter a number:  2\n",
      "Enter a number:  3\n",
      "Enter a number:  4\n",
      "Enter a number:  5\n"
     ]
    }
   ],
   "source": [
    "user_numbers = []\n",
    "for _ in range(5):\n",
    "    num = float(input(\"Enter a number: \"))\n",
    "    user_numbers.append(num)\n"
   ]
  },
  {
   "cell_type": "code",
   "execution_count": null,
   "id": "4b6914f2-f2b9-4f95-90d8-b344a392004f",
   "metadata": {},
   "outputs": [],
   "source": [
    "array_user = np.array(user_numbers)\n"
   ]
  }
 ],
 "metadata": {
  "kernelspec": {
   "display_name": "Python 3 (ipykernel)",
   "language": "python",
   "name": "python3"
  },
  "language_info": {
   "codemirror_mode": {
    "name": "ipython",
    "version": 3
   },
   "file_extension": ".py",
   "mimetype": "text/x-python",
   "name": "python",
   "nbconvert_exporter": "python",
   "pygments_lexer": "ipython3",
   "version": "3.12.7"
  }
 },
 "nbformat": 4,
 "nbformat_minor": 5
}
